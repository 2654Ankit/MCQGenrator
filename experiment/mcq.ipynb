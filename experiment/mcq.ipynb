{
 "cells": [
  {
   "cell_type": "code",
   "execution_count": 16,
   "metadata": {},
   "outputs": [
    {
     "data": {
      "text/plain": [
       "True"
      ]
     },
     "execution_count": 16,
     "metadata": {},
     "output_type": "execute_result"
    }
   ],
   "source": [
    "import os\n",
    "import json\n",
    "import pandas as pd\n",
    "import traceback\n",
    "from langchain_google_genai import ChatGoogleGenerativeAI\n",
    "from dotenv import load_dotenv \n",
    "load_dotenv()"
   ]
  },
  {
   "cell_type": "code",
   "execution_count": 17,
   "metadata": {},
   "outputs": [],
   "source": [
    "import google.generativeai as genai\n",
    "API_KEY = os.getenv(\"GEMNI_API_KEY\")\n",
    "genai.configure(api_key=API_KEY)\n"
   ]
  },
  {
   "cell_type": "code",
   "execution_count": null,
   "metadata": {},
   "outputs": [],
   "source": []
  },
  {
   "cell_type": "code",
   "execution_count": 18,
   "metadata": {},
   "outputs": [
    {
     "name": "stdout",
     "output_type": "stream",
     "text": [
      "The lighthouse keeper, Silas, had only two loves: the sea and his records. Every night, as the beam cut through the inky blackness, he'd spin a different record, filling the lonely tower with melodies. One night, a storm raged, the wind howling like a banshee. Silas, battling the tempest to keep the light burning, heard a different kind of sound over the storm's fury - a faint, ethereal singing.\n",
      "\n",
      "He dismissed it as the wind playing tricks, but the singing persisted, weaving its way through the crashing waves and the mournful strains of his record, a melancholic waltz. Curiosity piqued, Silas ventured out onto the wind-swept balcony. The singing was clearer now, coming from the churning waves below.\n",
      "\n",
      "He strained his eyes and saw it - a figure clinging to a piece of wreckage, a woman with long, seaweed-strewn hair, her voice a siren's call in the storm. He knew the risks, the treacherous currents, but he couldn't leave her to drown.\n",
      "\n",
      "Securing a rope, Silas descended into the maelstrom. The waves battered him, the cold numbed his limbs, but he reached her. He hauled her, shivering and weak, back up to the tower.\n",
      "\n",
      "As she warmed by the fire, she told him her story. A shipwreck, a desperate struggle, and the faint hope that someone, somewhere, would hear her song.\n",
      "\n",
      "Silas, normally a man of few words, found himself talking for hours. He told her about his love for the sea, his loneliness, and his records. He even played her his favorite, a bluesy tune about lost love and redemption.\n",
      "\n",
      "When the storm finally subsided, the woman, whose name was Elara, prepared to leave. \"Thank you,\" she said, her eyes mirroring the calm sea. \"You saved my life, and you reminded me of the beauty that still exists, even in the darkest of nights.\"\n",
      "\n",
      "She turned to leave, then hesitated. \"Perhaps,\" she said, a small smile playing on her lips, \"you could teach me to play the harmonica. I think it would sound lovely out here, carried on the wind.\"\n",
      "\n",
      "Silas, the lonely lighthouse keeper, smiled. For the first time in years, the beam of his light wasn't the only beacon shining from the tower. There was also the warm glow of hope, and the promise of a shared song on the wind. And perhaps, just perhaps, a new record to add to his collection.\n"
     ]
    }
   ],
   "source": [
    "llm = ChatGoogleGenerativeAI(model=\"gemini-2.0-flash\",google_api_key=API_KEY,)\n",
    "response = llm.invoke(\"Tell me a short story.\")\n",
    "print(response.content)"
   ]
  },
  {
   "cell_type": "code",
   "execution_count": 11,
   "metadata": {},
   "outputs": [
    {
     "name": "stdout",
     "output_type": "stream",
     "text": [
      "models/chat-bison-001\n",
      "models/text-bison-001\n",
      "models/embedding-gecko-001\n",
      "models/gemini-1.0-pro-vision-latest\n",
      "models/gemini-pro-vision\n",
      "models/gemini-1.5-pro-latest\n",
      "models/gemini-1.5-pro-001\n",
      "models/gemini-1.5-pro-002\n",
      "models/gemini-1.5-pro\n",
      "models/gemini-1.5-flash-latest\n",
      "models/gemini-1.5-flash-001\n",
      "models/gemini-1.5-flash-001-tuning\n",
      "models/gemini-1.5-flash\n",
      "models/gemini-1.5-flash-002\n",
      "models/gemini-1.5-flash-8b\n",
      "models/gemini-1.5-flash-8b-001\n",
      "models/gemini-1.5-flash-8b-latest\n",
      "models/gemini-1.5-flash-8b-exp-0827\n",
      "models/gemini-1.5-flash-8b-exp-0924\n",
      "models/gemini-2.0-flash-exp\n",
      "models/gemini-2.0-flash\n",
      "models/gemini-2.0-flash-001\n",
      "models/gemini-2.0-flash-exp-image-generation\n",
      "models/gemini-2.0-flash-lite-001\n",
      "models/gemini-2.0-flash-lite\n",
      "models/gemini-2.0-flash-lite-preview-02-05\n",
      "models/gemini-2.0-flash-lite-preview\n",
      "models/gemini-2.0-pro-exp\n",
      "models/gemini-2.0-pro-exp-02-05\n",
      "models/gemini-exp-1206\n",
      "models/gemini-2.0-flash-thinking-exp-01-21\n",
      "models/gemini-2.0-flash-thinking-exp\n",
      "models/gemini-2.0-flash-thinking-exp-1219\n",
      "models/learnlm-1.5-pro-experimental\n",
      "models/gemma-3-27b-it\n",
      "models/embedding-001\n",
      "models/text-embedding-004\n",
      "models/gemini-embedding-exp-03-07\n",
      "models/gemini-embedding-exp\n",
      "models/aqa\n",
      "models/imagen-3.0-generate-002\n"
     ]
    }
   ],
   "source": [
    "import google.generativeai as genai\n",
    "import os\n",
    "for model in genai.list_models():\n",
    "    print(model.name)"
   ]
  },
  {
   "cell_type": "code",
   "execution_count": 19,
   "metadata": {},
   "outputs": [
    {
     "data": {
      "text/plain": [
       "ChatGoogleGenerativeAI(model='models/gemini-2.0-flash', google_api_key=SecretStr('**********'), client=<google.ai.generativelanguage_v1beta.services.generative_service.client.GenerativeServiceClient object at 0x000001265BAA5850>, default_metadata=())"
      ]
     },
     "execution_count": 19,
     "metadata": {},
     "output_type": "execute_result"
    }
   ],
   "source": [
    "llm"
   ]
  },
  {
   "cell_type": "code",
   "execution_count": 21,
   "metadata": {},
   "outputs": [],
   "source": [
    "from langchain.prompts import PromptTemplate\n",
    "from langchain.chains import LLMChain,SequentialChain\n",
    "import PyPDF2"
   ]
  },
  {
   "cell_type": "code",
   "execution_count": 108,
   "metadata": {},
   "outputs": [],
   "source": [
    "response_json = {\n",
    "    \"1\":{\n",
    "        \"mcq\":\"multiple choice question\",\n",
    "        \"options\":{\n",
    "            \"a\":\"choice here\",\n",
    "            \"b\":\"choice here\",\n",
    "            \"c\":\"choice here\",\n",
    "            \"d\":\"choice here\",\n",
    "        },\n",
    "        \"correct\":\"correct answer here\",\n",
    "    },\n",
    "    \"2\":{\n",
    "        \"mcq\":\"multiple choice question\",\n",
    "        \"options\":{\n",
    "            \"a\":\"choice here\",\n",
    "            \"b\":\"choice here\",\n",
    "            \"c\":\"choice here\",\n",
    "            \"d\":\"choice here\",\n",
    "        },\n",
    "        \"correct\":\"correct answer here\",\n",
    "    },\n",
    "    \"3\":{\n",
    "        \"mcq\":\"multiple choice question\",\n",
    "        \"options\":{\n",
    "            \"a\":\"choice here\",\n",
    "            \"b\":\"choice here\",\n",
    "            \"c\":\"choice here\",\n",
    "            \"d\":\"choice here\",\n",
    "        },\n",
    "        \"correct\":\"correct answer here\",\n",
    "    }\n",
    "}"
   ]
  },
  {
   "cell_type": "code",
   "execution_count": 109,
   "metadata": {},
   "outputs": [],
   "source": [
    "TEMPLATE = \"\"\"\n",
    "Test:{text}\n",
    "You are an expert MCQ Maker. Given the above text, it is your job to \n",
    "create a quiz of {numbers} multiple choice question for {subject} students in {tone} tone.\n",
    "Make sure the question are not repeated and check all the questions to be configured the text as well.\n",
    "Make sure to format your response like response_json below and use it as a guide.\n",
    "Ensure to make {numbers} mcqs\n",
    "### response_json\n",
    "{response_json}\n",
    "\n",
    "\"\"\""
   ]
  },
  {
   "cell_type": "code",
   "execution_count": 110,
   "metadata": {},
   "outputs": [],
   "source": [
    "quiz_genration_prompt = PromptTemplate(\n",
    "    input_variables=[\"text\",\"numbers\",\"subject\",\"tone\",\"response_json\"],\n",
    "    template=TEMPLATE\n",
    ")"
   ]
  },
  {
   "cell_type": "code",
   "execution_count": 111,
   "metadata": {},
   "outputs": [],
   "source": [
    "quiz_chain = LLMChain(llm=llm,prompt=quiz_genration_prompt,output_key=\"quiz\",verbose=True)"
   ]
  },
  {
   "cell_type": "code",
   "execution_count": 112,
   "metadata": {},
   "outputs": [],
   "source": [
    "TEMPLATE2 = \"\"\"\n",
    "You are an expert english grammerian and writer . Given a multiple choice quiz for {subject} students.\n",
    "You need to evaluate the complexity of the question and give a complete analysis of the quiz. Only use at max 50 word for complexity.\n",
    "If the quiz is not as per with thw congnitive and analytical abilities of the student,\n",
    "update the quiz question which need to be changed and cjange the tone such that it perfectly fit the student.\n",
    "QUIZ_MCQ:\n",
    "{quiz}\n",
    "\n",
    "check for expert english writer of the above quiz\n",
    "\"\"\""
   ]
  },
  {
   "cell_type": "code",
   "execution_count": 113,
   "metadata": {},
   "outputs": [],
   "source": [
    "quiz_evaluation_prompt = PromptTemplate(input_variables=[\"subject\",\"quiz\"],template=TEMPLATE2)"
   ]
  },
  {
   "cell_type": "code",
   "execution_count": 114,
   "metadata": {},
   "outputs": [],
   "source": [
    "review_chain = LLMChain(llm=llm,prompt=quiz_evaluation_prompt,output_key=\"review\",verbose=True)"
   ]
  },
  {
   "cell_type": "code",
   "execution_count": 115,
   "metadata": {},
   "outputs": [],
   "source": [
    "genrate_evaluate_chain = SequentialChain(chains=[quiz_chain,review_chain],\n",
    "                      input_variables=[\"text\",\"numbers\",\"subject\",\"tone\",\"response_json\"],\n",
    "                      output_variables=[\"subject\",\"quiz\"],\n",
    "                      verbose = True\n",
    "\n",
    "                      \n",
    "                      )"
   ]
  },
  {
   "cell_type": "code",
   "execution_count": 116,
   "metadata": {},
   "outputs": [],
   "source": [
    "file_path = \"D:\\GenAI\\Projects\\mcqGenrator\\data.txt\"\n",
    "with open(file_path,\"r\") as f:\n",
    "    TEXT = f.read()"
   ]
  },
  {
   "cell_type": "code",
   "execution_count": 117,
   "metadata": {},
   "outputs": [
    {
     "data": {
      "text/plain": [
       "'{\"1\": {\"mcq\": \"multiple choice question\", \"options\": {\"a\": \"choice here\", \"b\": \"choice here\", \"c\": \"choice here\", \"d\": \"choice here\"}, \"correct\": \"correct answer here\"}, \"2\": {\"mcq\": \"multiple choice question\", \"options\": {\"a\": \"choice here\", \"b\": \"choice here\", \"c\": \"choice here\", \"d\": \"choice here\"}, \"correct\": \"correct answer here\"}, \"3\": {\"mcq\": \"multiple choice question\", \"options\": {\"a\": \"choice here\", \"b\": \"choice here\", \"c\": \"choice here\", \"d\": \"choice here\"}, \"correct\": \"correct answer here\"}}'"
      ]
     },
     "execution_count": 117,
     "metadata": {},
     "output_type": "execute_result"
    }
   ],
   "source": [
    "# serilize the python dict into json formatted string\n",
    "json.dumps(response_json)"
   ]
  },
  {
   "cell_type": "code",
   "execution_count": 118,
   "metadata": {},
   "outputs": [],
   "source": [
    "NUMBER = 5\n",
    "SUBJECT = \"machine learning\",\n",
    "TONE=\"simple\""
   ]
  },
  {
   "cell_type": "code",
   "execution_count": 119,
   "metadata": {},
   "outputs": [
    {
     "name": "stdout",
     "output_type": "stream",
     "text": [
      "\n",
      "\n",
      "\u001b[1m> Entering new SequentialChain chain...\u001b[0m\n",
      "\n",
      "\n",
      "\u001b[1m> Entering new LLMChain chain...\u001b[0m\n",
      "Prompt after formatting:\n",
      "\u001b[32;1m\u001b[1;3m\n",
      "Test:The term machine learning was coined in 1959 by Arthur Samuel, an IBM employee and pioneer in the field of computer gaming and artificial intelligence.[8][9] The synonym self-teaching computers was also used in this time period.[10][11]\n",
      "\n",
      "Although the earliest machine learning model was introduced in the 1950s when Arthur Samuel invented a program that calculated the winning chance in checkers for each side, the history of machine learning roots back to decades of human desire and effort to study human cognitive processes.[12] In 1949, Canadian psychologist Donald Hebb published the book The Organization of Behavior, in which he introduced a theoretical neural structure formed by certain interactions among nerve cells.[13] Hebb's model of neurons interacting with one another set a groundwork for how AIs and machine learning algorithms work under nodes, or artificial neurons used by computers to communicate data.[12] Other researchers who have studied human cognitive systems contributed to the modern machine learning technologies as well, including logician Walter Pitts and Warren McCulloch, who proposed the early mathematical models of neural networks to come up with algorithms that mirror human thought processes.[12]\n",
      "\n",
      "By the early 1960s, an experimental \"learning machine\" with punched tape memory, called Cybertron, had been developed by Raytheon Company to analyse sonar signals, electrocardiograms, and speech patterns using rudimentary reinforcement learning. It was repetitively \"trained\" by a human operator/teacher to recognize patterns and equipped with a \"goof\" button to cause it to reevaluate incorrect decisions.[14] A representative book on research into machine learning during the 1960s was Nilsson's book on Learning Machines, dealing mostly with machine learning for pattern classification.[15] Interest related to pattern recognition continued into the 1970s, as described by Duda and Hart in 1973.[16] In 1981 a report was given on using teaching strategies so that an artificial neural network learns to recognize 40 characters (26 letters, 10 digits, and 4 special symbols) from a computer terminal.[17]\n",
      "\n",
      "Tom M. Mitchell provided a widely quoted, more formal definition of the algorithms studied in the machine learning field: \"A computer program is said to learn from experience E with respect to some class of tasks T and performance measure P if its performance at tasks in T, as measured by P, improves with experience E.\"[18] This definition of the tasks in which machine learning is concerned offers a fundamentally operational definition rather than defining the field in cognitive terms. This follows Alan Turing's proposal in his paper \"Computing Machinery and Intelligence\", in which the question \"Can machines think?\" is replaced with the question \"Can machines do what we (as thinking entities) can do?\".[19]\n",
      "\n",
      "Modern-day machine learning has two objectives. One is to classify data based on models which have been developed; the other purpose is to make predictions for future outcomes based on these models. A hypothetical algorithm specific to classifying data may use computer vision of moles coupled with supervised learning in order to train it to classify the cancerous moles. A machine learning algorithm for stock trading may inform the trader of future potential predictions.[20]\n",
      "\n",
      "\n",
      "You are an expert MCQ Maker. Given the above text, it is your job to \n",
      "create a quiz of 5 multiple choice question for ('machine learning',) students in simple tone.\n",
      "Make sure the question are not repeated and check all the questions to be configured the text as well.\n",
      "Make sure to format your response like response_json below and use it as a guide.\n",
      "Ensure to make 5 mcqs\n",
      "### response_json\n",
      "{\"1\": {\"mcq\": \"multiple choice question\", \"options\": {\"a\": \"choice here\", \"b\": \"choice here\", \"c\": \"choice here\", \"d\": \"choice here\"}, \"correct\": \"correct answer here\"}, \"2\": {\"mcq\": \"multiple choice question\", \"options\": {\"a\": \"choice here\", \"b\": \"choice here\", \"c\": \"choice here\", \"d\": \"choice here\"}, \"correct\": \"correct answer here\"}, \"3\": {\"mcq\": \"multiple choice question\", \"options\": {\"a\": \"choice here\", \"b\": \"choice here\", \"c\": \"choice here\", \"d\": \"choice here\"}, \"correct\": \"correct answer here\"}}\n",
      "\n",
      "\u001b[0m\n",
      "\n",
      "\u001b[1m> Finished chain.\u001b[0m\n",
      "\n",
      "\n",
      "\u001b[1m> Entering new LLMChain chain...\u001b[0m\n",
      "Prompt after formatting:\n",
      "\u001b[32;1m\u001b[1;3m\n",
      "You are an expert english grammerian and writer . Given a multiple choice quiz for ('machine learning',) students.\n",
      "You need to evaluate the complexity of the question and give a complete analysis of the quiz. Only use at max 50 word for complexity.\n",
      "If the quiz is not as per with thw congnitive and analytical abilities of the student,\n",
      "update the quiz question which need to be changed and cjange the tone such that it perfectly fit the student.\n",
      "QUIZ_MCQ:\n",
      "```json\n",
      "{\n",
      "  \"1\": {\n",
      "    \"mcq\": \"Who coined the term 'machine learning'?\",\n",
      "    \"options\": {\n",
      "      \"a\": \"Donald Hebb\",\n",
      "      \"b\": \"Walter Pitts\",\n",
      "      \"c\": \"Arthur Samuel\",\n",
      "      \"d\": \"Alan Turing\"\n",
      "    },\n",
      "    \"correct\": \"c\"\n",
      "  },\n",
      "  \"2\": {\n",
      "    \"mcq\": \"Donald Hebb's book, 'The Organization of Behavior,' introduced a theoretical neural structure based on:\",\n",
      "    \"options\": {\n",
      "      \"a\": \"Mathematical models of neural networks\",\n",
      "      \"b\": \"Interactions among nerve cells\",\n",
      "      \"c\": \"Punched tape memory\",\n",
      "      \"d\": \"Pattern classification\"\n",
      "    },\n",
      "    \"correct\": \"b\"\n",
      "  },\n",
      "  \"3\": {\n",
      "    \"mcq\": \"What was the name of the experimental 'learning machine' developed by Raytheon Company in the early 1960s?\",\n",
      "    \"options\": {\n",
      "      \"a\": \"The Hebb Machine\",\n",
      "      \"b\": \"Cybertron\",\n",
      "      \"c\": \"The Turing Device\",\n",
      "      \"d\": \"The Samuel Analyzer\"\n",
      "    },\n",
      "    \"correct\": \"b\"\n",
      "  },\n",
      "  \"4\": {\n",
      "    \"mcq\": \"According to Tom M. Mitchell's definition, what are the three key elements involved in machine learning?\",\n",
      "    \"options\": {\n",
      "      \"a\": \"Algorithms, data, and accuracy\",\n",
      "      \"b\": \"Experience, tasks, and performance\",\n",
      "      \"c\": \"Neurons, networks, and learning\",\n",
      "      \"d\": \"Classification, prediction, and modeling\"\n",
      "    },\n",
      "    \"correct\": \"b\"\n",
      "  },\n",
      "  \"5\": {\n",
      "    \"mcq\": \"What are the two main objectives of modern-day machine learning?\",\n",
      "    \"options\": {\n",
      "      \"a\": \"Data storage and retrieval\",\n",
      "      \"b\": \"Pattern recognition and algorithm development\",\n",
      "      \"c\": \"Classifying data and making predictions\",\n",
      "      \"d\": \"Neural network design and optimization\"\n",
      "    },\n",
      "    \"correct\": \"c\"\n",
      "  }\n",
      "}\n",
      "```\n",
      "\n",
      "check for expert english writer of the above quiz\n",
      "\u001b[0m\n",
      "\n",
      "\u001b[1m> Finished chain.\u001b[0m\n",
      "\n",
      "\u001b[1m> Finished chain.\u001b[0m\n"
     ]
    }
   ],
   "source": [
    "resp = genrate_evaluate_chain(\n",
    "   { \"text\":TEXT,\n",
    "    \"numbers\":NUMBER,\n",
    "    \"subject\":SUBJECT,\n",
    "    \"tone\":TONE,\n",
    "    \"response_json\": json.dumps(response_json)\n",
    "    }\n",
    "    )"
   ]
  },
  {
   "cell_type": "code",
   "execution_count": 121,
   "metadata": {},
   "outputs": [
    {
     "data": {
      "text/plain": [
       "{'text': 'The term machine learning was coined in 1959 by Arthur Samuel, an IBM employee and pioneer in the field of computer gaming and artificial intelligence.[8][9] The synonym self-teaching computers was also used in this time period.[10][11]\\n\\nAlthough the earliest machine learning model was introduced in the 1950s when Arthur Samuel invented a program that calculated the winning chance in checkers for each side, the history of machine learning roots back to decades of human desire and effort to study human cognitive processes.[12] In 1949, Canadian psychologist Donald Hebb published the book The Organization of Behavior, in which he introduced a theoretical neural structure formed by certain interactions among nerve cells.[13] Hebb\\'s model of neurons interacting with one another set a groundwork for how AIs and machine learning algorithms work under nodes, or artificial neurons used by computers to communicate data.[12] Other researchers who have studied human cognitive systems contributed to the modern machine learning technologies as well, including logician Walter Pitts and Warren McCulloch, who proposed the early mathematical models of neural networks to come up with algorithms that mirror human thought processes.[12]\\n\\nBy the early 1960s, an experimental \"learning machine\" with punched tape memory, called Cybertron, had been developed by Raytheon Company to analyse sonar signals, electrocardiograms, and speech patterns using rudimentary reinforcement learning. It was repetitively \"trained\" by a human operator/teacher to recognize patterns and equipped with a \"goof\" button to cause it to reevaluate incorrect decisions.[14] A representative book on research into machine learning during the 1960s was Nilsson\\'s book on Learning Machines, dealing mostly with machine learning for pattern classification.[15] Interest related to pattern recognition continued into the 1970s, as described by Duda and Hart in 1973.[16] In 1981 a report was given on using teaching strategies so that an artificial neural network learns to recognize 40 characters (26 letters, 10 digits, and 4 special symbols) from a computer terminal.[17]\\n\\nTom M. Mitchell provided a widely quoted, more formal definition of the algorithms studied in the machine learning field: \"A computer program is said to learn from experience E with respect to some class of tasks T and performance measure P if its performance at tasks in T, as measured by P, improves with experience E.\"[18] This definition of the tasks in which machine learning is concerned offers a fundamentally operational definition rather than defining the field in cognitive terms. This follows Alan Turing\\'s proposal in his paper \"Computing Machinery and Intelligence\", in which the question \"Can machines think?\" is replaced with the question \"Can machines do what we (as thinking entities) can do?\".[19]\\n\\nModern-day machine learning has two objectives. One is to classify data based on models which have been developed; the other purpose is to make predictions for future outcomes based on these models. A hypothetical algorithm specific to classifying data may use computer vision of moles coupled with supervised learning in order to train it to classify the cancerous moles. A machine learning algorithm for stock trading may inform the trader of future potential predictions.[20]\\n\\n',\n",
       " 'numbers': 5,\n",
       " 'subject': ('machine learning',),\n",
       " 'tone': 'simple',\n",
       " 'response_json': '{\"1\": {\"mcq\": \"multiple choice question\", \"options\": {\"a\": \"choice here\", \"b\": \"choice here\", \"c\": \"choice here\", \"d\": \"choice here\"}, \"correct\": \"correct answer here\"}, \"2\": {\"mcq\": \"multiple choice question\", \"options\": {\"a\": \"choice here\", \"b\": \"choice here\", \"c\": \"choice here\", \"d\": \"choice here\"}, \"correct\": \"correct answer here\"}, \"3\": {\"mcq\": \"multiple choice question\", \"options\": {\"a\": \"choice here\", \"b\": \"choice here\", \"c\": \"choice here\", \"d\": \"choice here\"}, \"correct\": \"correct answer here\"}}',\n",
       " 'quiz': '```json\\n{\\n  \"1\": {\\n    \"mcq\": \"Who coined the term \\'machine learning\\'?\",\\n    \"options\": {\\n      \"a\": \"Donald Hebb\",\\n      \"b\": \"Walter Pitts\",\\n      \"c\": \"Arthur Samuel\",\\n      \"d\": \"Alan Turing\"\\n    },\\n    \"correct\": \"c\"\\n  },\\n  \"2\": {\\n    \"mcq\": \"Donald Hebb\\'s book, \\'The Organization of Behavior,\\' introduced a theoretical neural structure based on:\",\\n    \"options\": {\\n      \"a\": \"Mathematical models of neural networks\",\\n      \"b\": \"Interactions among nerve cells\",\\n      \"c\": \"Punched tape memory\",\\n      \"d\": \"Pattern classification\"\\n    },\\n    \"correct\": \"b\"\\n  },\\n  \"3\": {\\n    \"mcq\": \"What was the name of the experimental \\'learning machine\\' developed by Raytheon Company in the early 1960s?\",\\n    \"options\": {\\n      \"a\": \"The Hebb Machine\",\\n      \"b\": \"Cybertron\",\\n      \"c\": \"The Turing Device\",\\n      \"d\": \"The Samuel Analyzer\"\\n    },\\n    \"correct\": \"b\"\\n  },\\n  \"4\": {\\n    \"mcq\": \"According to Tom M. Mitchell\\'s definition, what are the three key elements involved in machine learning?\",\\n    \"options\": {\\n      \"a\": \"Algorithms, data, and accuracy\",\\n      \"b\": \"Experience, tasks, and performance\",\\n      \"c\": \"Neurons, networks, and learning\",\\n      \"d\": \"Classification, prediction, and modeling\"\\n    },\\n    \"correct\": \"b\"\\n  },\\n  \"5\": {\\n    \"mcq\": \"What are the two main objectives of modern-day machine learning?\",\\n    \"options\": {\\n      \"a\": \"Data storage and retrieval\",\\n      \"b\": \"Pattern recognition and algorithm development\",\\n      \"c\": \"Classifying data and making predictions\",\\n      \"d\": \"Neural network design and optimization\"\\n    },\\n    \"correct\": \"c\"\\n  }\\n}\\n```'}"
      ]
     },
     "execution_count": 121,
     "metadata": {},
     "output_type": "execute_result"
    }
   ],
   "source": [
    "resp"
   ]
  },
  {
   "cell_type": "code",
   "execution_count": 122,
   "metadata": {},
   "outputs": [],
   "source": [
    "quiz = resp.get('quiz').strip(\"```json\").strip(\"```\").strip()"
   ]
  },
  {
   "cell_type": "code",
   "execution_count": 126,
   "metadata": {},
   "outputs": [],
   "source": [
    "quiz_dict = json.loads(quiz)"
   ]
  },
  {
   "cell_type": "code",
   "execution_count": 128,
   "metadata": {},
   "outputs": [],
   "source": [
    "quiz_table_data = []\n",
    "for key , value in quiz_dict.items():\n",
    "    mcq = value['mcq']\n",
    "    options = \" | \".join(\n",
    "        [\n",
    "            f\"{option}: {option_value}\" for option,option_value in value[\"options\"].items()\n",
    "        ]\n",
    "    )\n",
    "\n",
    "    correct = value[\"correct\"]\n",
    "    quiz_table_data.append({\"MCQ\":mcq,\"choices\":options,\"correct\":correct})\n",
    "    "
   ]
  },
  {
   "cell_type": "code",
   "execution_count": 129,
   "metadata": {},
   "outputs": [
    {
     "data": {
      "text/plain": [
       "[{'MCQ': \"Who coined the term 'machine learning'?\",\n",
       "  'choices': 'a: Donald Hebb | b: Walter Pitts | c: Arthur Samuel | d: Alan Turing',\n",
       "  'correct': 'c'},\n",
       " {'MCQ': \"Donald Hebb's book, 'The Organization of Behavior,' introduced a theoretical neural structure based on:\",\n",
       "  'choices': 'a: Mathematical models of neural networks | b: Interactions among nerve cells | c: Punched tape memory | d: Pattern classification',\n",
       "  'correct': 'b'},\n",
       " {'MCQ': \"What was the name of the experimental 'learning machine' developed by Raytheon Company in the early 1960s?\",\n",
       "  'choices': 'a: The Hebb Machine | b: Cybertron | c: The Turing Device | d: The Samuel Analyzer',\n",
       "  'correct': 'b'},\n",
       " {'MCQ': \"According to Tom M. Mitchell's definition, what are the three key elements involved in machine learning?\",\n",
       "  'choices': 'a: Algorithms, data, and accuracy | b: Experience, tasks, and performance | c: Neurons, networks, and learning | d: Classification, prediction, and modeling',\n",
       "  'correct': 'b'},\n",
       " {'MCQ': 'What are the two main objectives of modern-day machine learning?',\n",
       "  'choices': 'a: Data storage and retrieval | b: Pattern recognition and algorithm development | c: Classifying data and making predictions | d: Neural network design and optimization',\n",
       "  'correct': 'c'}]"
      ]
     },
     "execution_count": 129,
     "metadata": {},
     "output_type": "execute_result"
    }
   ],
   "source": [
    "quiz_table_data"
   ]
  },
  {
   "cell_type": "code",
   "execution_count": 130,
   "metadata": {},
   "outputs": [],
   "source": [
    "import pandas as pd"
   ]
  },
  {
   "cell_type": "code",
   "execution_count": 132,
   "metadata": {},
   "outputs": [],
   "source": [
    "quiz_data = pd.DataFrame(quiz_table_data)"
   ]
  },
  {
   "cell_type": "code",
   "execution_count": 133,
   "metadata": {},
   "outputs": [],
   "source": [
    "quiz_data.to_csv(\"machinglearning.csv\",index=False)"
   ]
  },
  {
   "cell_type": "code",
   "execution_count": null,
   "metadata": {},
   "outputs": [],
   "source": []
  }
 ],
 "metadata": {
  "kernelspec": {
   "display_name": "Python 3",
   "language": "python",
   "name": "python3"
  },
  "language_info": {
   "codemirror_mode": {
    "name": "ipython",
    "version": 3
   },
   "file_extension": ".py",
   "mimetype": "text/x-python",
   "name": "python",
   "nbconvert_exporter": "python",
   "pygments_lexer": "ipython3",
   "version": "3.11.3"
  }
 },
 "nbformat": 4,
 "nbformat_minor": 2
}
